{
 "cells": [
  {
   "cell_type": "markdown",
   "id": "61c50037",
   "metadata": {},
   "source": [
    "### Import Libraries"
   ]
  },
  {
   "cell_type": "code",
   "execution_count": 1,
   "id": "3fcedd30",
   "metadata": {},
   "outputs": [],
   "source": [
    "import pandas as pd\n",
    "import numpy as np"
   ]
  },
  {
   "cell_type": "markdown",
   "id": "3cc70941",
   "metadata": {},
   "source": [
    "### Import dataset"
   ]
  },
  {
   "cell_type": "code",
   "execution_count": 25,
   "id": "92ea5cf8",
   "metadata": {},
   "outputs": [],
   "source": [
    "df = pd.read_csv('generation2.csv')\n",
    "data_df = df[df['id']==1]\n",
    "data_df = data_df[data_df['hour']==12]"
   ]
  },
  {
   "cell_type": "code",
   "execution_count": 26,
   "id": "da3be1b4",
   "metadata": {},
   "outputs": [
    {
     "data": {
      "text/html": [
       "<div>\n",
       "<style scoped>\n",
       "    .dataframe tbody tr th:only-of-type {\n",
       "        vertical-align: middle;\n",
       "    }\n",
       "\n",
       "    .dataframe tbody tr th {\n",
       "        vertical-align: top;\n",
       "    }\n",
       "\n",
       "    .dataframe thead th {\n",
       "        text-align: right;\n",
       "    }\n",
       "</style>\n",
       "<table border=\"1\" class=\"dataframe\">\n",
       "  <thead>\n",
       "    <tr style=\"text-align: right;\">\n",
       "      <th></th>\n",
       "      <th>id</th>\n",
       "      <th>fcst_time</th>\n",
       "      <th>time</th>\n",
       "      <th>temperature</th>\n",
       "      <th>humidity</th>\n",
       "      <th>dew_point</th>\n",
       "      <th>wind_dir</th>\n",
       "      <th>wind_spd</th>\n",
       "      <th>uv_idx</th>\n",
       "      <th>visibility</th>\n",
       "      <th>...</th>\n",
       "      <th>cloudiness</th>\n",
       "      <th>precip_prob</th>\n",
       "      <th>precip_1h</th>\n",
       "      <th>year</th>\n",
       "      <th>month</th>\n",
       "      <th>day</th>\n",
       "      <th>hour</th>\n",
       "      <th>minute</th>\n",
       "      <th>second</th>\n",
       "      <th>amount</th>\n",
       "    </tr>\n",
       "  </thead>\n",
       "  <tbody>\n",
       "    <tr>\n",
       "      <th>54</th>\n",
       "      <td>1</td>\n",
       "      <td>1590937537</td>\n",
       "      <td>2020-06-01 12:00:00+09:00</td>\n",
       "      <td>23.8889</td>\n",
       "      <td>50</td>\n",
       "      <td>12.7778</td>\n",
       "      <td>287</td>\n",
       "      <td>13.0357</td>\n",
       "      <td>11</td>\n",
       "      <td>16.0934</td>\n",
       "      <td>...</td>\n",
       "      <td>23</td>\n",
       "      <td>0</td>\n",
       "      <td>0.0</td>\n",
       "      <td>2020</td>\n",
       "      <td>6</td>\n",
       "      <td>1</td>\n",
       "      <td>12</td>\n",
       "      <td>0</td>\n",
       "      <td>0</td>\n",
       "      <td>611.114804</td>\n",
       "    </tr>\n",
       "    <tr>\n",
       "      <th>58</th>\n",
       "      <td>1</td>\n",
       "      <td>1590941137</td>\n",
       "      <td>2020-06-01 12:00:00+09:00</td>\n",
       "      <td>23.8889</td>\n",
       "      <td>50</td>\n",
       "      <td>12.7778</td>\n",
       "      <td>287</td>\n",
       "      <td>13.0357</td>\n",
       "      <td>11</td>\n",
       "      <td>16.0934</td>\n",
       "      <td>...</td>\n",
       "      <td>23</td>\n",
       "      <td>0</td>\n",
       "      <td>0.0</td>\n",
       "      <td>2020</td>\n",
       "      <td>6</td>\n",
       "      <td>1</td>\n",
       "      <td>12</td>\n",
       "      <td>0</td>\n",
       "      <td>0</td>\n",
       "      <td>611.114804</td>\n",
       "    </tr>\n",
       "    <tr>\n",
       "      <th>62</th>\n",
       "      <td>1</td>\n",
       "      <td>1590944738</td>\n",
       "      <td>2020-06-01 12:00:00+09:00</td>\n",
       "      <td>23.8889</td>\n",
       "      <td>50</td>\n",
       "      <td>12.7778</td>\n",
       "      <td>287</td>\n",
       "      <td>13.0357</td>\n",
       "      <td>11</td>\n",
       "      <td>16.0934</td>\n",
       "      <td>...</td>\n",
       "      <td>23</td>\n",
       "      <td>0</td>\n",
       "      <td>0.0</td>\n",
       "      <td>2020</td>\n",
       "      <td>6</td>\n",
       "      <td>1</td>\n",
       "      <td>12</td>\n",
       "      <td>0</td>\n",
       "      <td>0</td>\n",
       "      <td>611.114804</td>\n",
       "    </tr>\n",
       "    <tr>\n",
       "      <th>66</th>\n",
       "      <td>1</td>\n",
       "      <td>1590948335</td>\n",
       "      <td>2020-06-01 12:00:00+09:00</td>\n",
       "      <td>23.8889</td>\n",
       "      <td>50</td>\n",
       "      <td>12.7778</td>\n",
       "      <td>287</td>\n",
       "      <td>13.0357</td>\n",
       "      <td>11</td>\n",
       "      <td>16.0934</td>\n",
       "      <td>...</td>\n",
       "      <td>23</td>\n",
       "      <td>0</td>\n",
       "      <td>0.0</td>\n",
       "      <td>2020</td>\n",
       "      <td>6</td>\n",
       "      <td>1</td>\n",
       "      <td>12</td>\n",
       "      <td>0</td>\n",
       "      <td>0</td>\n",
       "      <td>611.114804</td>\n",
       "    </tr>\n",
       "    <tr>\n",
       "      <th>70</th>\n",
       "      <td>1</td>\n",
       "      <td>1590951938</td>\n",
       "      <td>2020-06-01 12:00:00+09:00</td>\n",
       "      <td>23.8889</td>\n",
       "      <td>50</td>\n",
       "      <td>12.7778</td>\n",
       "      <td>287</td>\n",
       "      <td>13.0357</td>\n",
       "      <td>11</td>\n",
       "      <td>16.0934</td>\n",
       "      <td>...</td>\n",
       "      <td>23</td>\n",
       "      <td>0</td>\n",
       "      <td>0.0</td>\n",
       "      <td>2020</td>\n",
       "      <td>6</td>\n",
       "      <td>1</td>\n",
       "      <td>12</td>\n",
       "      <td>0</td>\n",
       "      <td>0</td>\n",
       "      <td>611.114804</td>\n",
       "    </tr>\n",
       "  </tbody>\n",
       "</table>\n",
       "<p>5 rows × 21 columns</p>\n",
       "</div>"
      ],
      "text/plain": [
       "    id   fcst_time                       time  temperature  humidity  \\\n",
       "54   1  1590937537  2020-06-01 12:00:00+09:00      23.8889        50   \n",
       "58   1  1590941137  2020-06-01 12:00:00+09:00      23.8889        50   \n",
       "62   1  1590944738  2020-06-01 12:00:00+09:00      23.8889        50   \n",
       "66   1  1590948335  2020-06-01 12:00:00+09:00      23.8889        50   \n",
       "70   1  1590951938  2020-06-01 12:00:00+09:00      23.8889        50   \n",
       "\n",
       "    dew_point  wind_dir  wind_spd  uv_idx  visibility  ...  cloudiness  \\\n",
       "54    12.7778       287   13.0357      11     16.0934  ...          23   \n",
       "58    12.7778       287   13.0357      11     16.0934  ...          23   \n",
       "62    12.7778       287   13.0357      11     16.0934  ...          23   \n",
       "66    12.7778       287   13.0357      11     16.0934  ...          23   \n",
       "70    12.7778       287   13.0357      11     16.0934  ...          23   \n",
       "\n",
       "    precip_prob  precip_1h  year  month  day  hour  minute  second      amount  \n",
       "54            0        0.0  2020      6    1    12       0       0  611.114804  \n",
       "58            0        0.0  2020      6    1    12       0       0  611.114804  \n",
       "62            0        0.0  2020      6    1    12       0       0  611.114804  \n",
       "66            0        0.0  2020      6    1    12       0       0  611.114804  \n",
       "70            0        0.0  2020      6    1    12       0       0  611.114804  \n",
       "\n",
       "[5 rows x 21 columns]"
      ]
     },
     "execution_count": 26,
     "metadata": {},
     "output_type": "execute_result"
    }
   ],
   "source": [
    "data_df.head()"
   ]
  },
  {
   "cell_type": "markdown",
   "id": "3da1208c",
   "metadata": {},
   "source": [
    "### Define x and y"
   ]
  },
  {
   "cell_type": "code",
   "execution_count": 27,
   "id": "bfe94835",
   "metadata": {},
   "outputs": [],
   "source": [
    "#x = data_df.drop(['id','amount','year','month','day','hour','minute','second','fcst_time','time'], axis = 1).values\n",
    "#y = data_df['amount'].values"
   ]
  },
  {
   "cell_type": "code",
   "execution_count": 62,
   "id": "1cd42369",
   "metadata": {},
   "outputs": [],
   "source": [
    "x = data_df.drop(['id','amount','year','month','day','hour','minute','second','fcst_time','time','dew_point','ceiling', 'cloudiness','precip_prob', 'precip_1h','wind_dir','wind_spd'], axis = 1).values\n",
    "y = data_df['amount'].values"
   ]
  },
  {
   "cell_type": "code",
   "execution_count": 63,
   "id": "51a06de1",
   "metadata": {},
   "outputs": [
    {
     "name": "stdout",
     "output_type": "stream",
     "text": [
      "[[23.8889 50.     11.     16.0934]\n",
      " [23.8889 50.     11.     16.0934]\n",
      " [23.8889 50.     11.     16.0934]\n",
      " ...\n",
      " [26.6667 65.     11.     11.2654]\n",
      " [26.6667 65.     11.     11.2654]\n",
      " [26.6667 65.     11.     11.2654]]\n"
     ]
    }
   ],
   "source": [
    "print(x)"
   ]
  },
  {
   "cell_type": "code",
   "execution_count": 64,
   "id": "34de153b",
   "metadata": {},
   "outputs": [
    {
     "name": "stdout",
     "output_type": "stream",
     "text": [
      "[611.1148041 611.1148041 611.1148041 ... 327.7246998 327.7246998\n",
      " 327.7246998]\n"
     ]
    }
   ],
   "source": [
    "print(y)"
   ]
  },
  {
   "cell_type": "markdown",
   "id": "1925217a",
   "metadata": {},
   "source": [
    "### Split the dataset in training set and test set "
   ]
  },
  {
   "cell_type": "code",
   "execution_count": 65,
   "id": "a1c7c31f",
   "metadata": {},
   "outputs": [],
   "source": [
    "from sklearn.model_selection import train_test_split\n",
    "x_train, x_test, y_train, y_test = train_test_split(x,y,test_size=0.3, random_state=0) "
   ]
  },
  {
   "cell_type": "markdown",
   "id": "af8ae594",
   "metadata": {},
   "source": [
    "### Train the model on the training set"
   ]
  },
  {
   "cell_type": "code",
   "execution_count": 66,
   "id": "d773b1af",
   "metadata": {},
   "outputs": [
    {
     "data": {
      "text/plain": [
       "LinearRegression()"
      ]
     },
     "execution_count": 66,
     "metadata": {},
     "output_type": "execute_result"
    }
   ],
   "source": [
    "from sklearn.linear_model import LinearRegression\n",
    "ml = LinearRegression()\n",
    "ml.fit(x_train,y_train)"
   ]
  },
  {
   "cell_type": "code",
   "execution_count": 68,
   "id": "dff54aac",
   "metadata": {},
   "outputs": [
    {
     "data": {
      "text/plain": [
       "array([514.27863362])"
      ]
     },
     "execution_count": 68,
     "metadata": {},
     "output_type": "execute_result"
    }
   ],
   "source": [
    "ml.predict([[23.8889, 50., 11., 16.0934]])"
   ]
  },
  {
   "cell_type": "markdown",
   "id": "36b9c6b7",
   "metadata": {},
   "source": [
    "### Predict the test set results"
   ]
  },
  {
   "cell_type": "code",
   "execution_count": 69,
   "id": "2ca5de67",
   "metadata": {},
   "outputs": [
    {
     "name": "stdout",
     "output_type": "stream",
     "text": [
      "[633.29438682 398.07366616 455.08109035 ... 395.42914493 473.91047027\n",
      " 371.7464511 ]\n"
     ]
    }
   ],
   "source": [
    "y_pred=ml.predict(x_test)\n",
    "print(y_pred)"
   ]
  },
  {
   "cell_type": "markdown",
   "id": "61c2412d",
   "metadata": {},
   "source": [
    "### Evaluate the model"
   ]
  },
  {
   "cell_type": "code",
   "execution_count": 70,
   "id": "9e2d5647",
   "metadata": {},
   "outputs": [
    {
     "data": {
      "text/plain": [
       "0.47411568072688093"
      ]
     },
     "execution_count": 70,
     "metadata": {},
     "output_type": "execute_result"
    }
   ],
   "source": [
    "from sklearn.metrics import r2_score\n",
    "r2_score(y_test,y_pred)"
   ]
  },
  {
   "cell_type": "markdown",
   "id": "4627a350",
   "metadata": {},
   "source": [
    "### Plot the results"
   ]
  },
  {
   "cell_type": "code",
   "execution_count": 71,
   "id": "bddd635c",
   "metadata": {},
   "outputs": [
    {
     "data": {
      "text/plain": [
       "Text(0.5, 1.0, 'Actual vs. Predicted')"
      ]
     },
     "execution_count": 71,
     "metadata": {},
     "output_type": "execute_result"
    },
    {
     "data": {
      "image/png": "[encoded data removed]",
      "text/plain": [
       "<Figure size 1080x720 with 1 Axes>"
      ]
     },
     "metadata": {
      "needs_background": "light"
     },
     "output_type": "display_data"
    }
   ],
   "source": [
    "import matplotlib.pyplot as plt\n",
    "plt.figure(figsize=(15,10))\n",
    "plt.scatter(y_test,y_pred)\n",
    "plt.xlabel('Actual')\n",
    "plt.ylabel('Predicted')\n",
    "plt.title('Actual vs. Predicted')"
   ]
  },
  {
   "cell_type": "markdown",
   "id": "a259a786",
   "metadata": {},
   "source": [
    "### Predicted values"
   ]
  },
  {
   "cell_type": "code",
   "execution_count": 61,
   "id": "ce42c742",
   "metadata": {},
   "outputs": [
    {
     "data": {
      "text/html": [
       "<div>\n",
       "<style scoped>\n",
       "    .dataframe tbody tr th:only-of-type {\n",
       "        vertical-align: middle;\n",
       "    }\n",
       "\n",
       "    .dataframe tbody tr th {\n",
       "        vertical-align: top;\n",
       "    }\n",
       "\n",
       "    .dataframe thead th {\n",
       "        text-align: right;\n",
       "    }\n",
       "</style>\n",
       "<table border=\"1\" class=\"dataframe\">\n",
       "  <thead>\n",
       "    <tr style=\"text-align: right;\">\n",
       "      <th></th>\n",
       "      <th>Actual Value</th>\n",
       "      <th>Predicted value</th>\n",
       "      <th>Difference</th>\n",
       "    </tr>\n",
       "  </thead>\n",
       "  <tbody>\n",
       "    <tr>\n",
       "      <th>0</th>\n",
       "      <td>495.304136</td>\n",
       "      <td>634.779276</td>\n",
       "      <td>-139.475140</td>\n",
       "    </tr>\n",
       "    <tr>\n",
       "      <th>1</th>\n",
       "      <td>456.105831</td>\n",
       "      <td>390.334999</td>\n",
       "      <td>65.770831</td>\n",
       "    </tr>\n",
       "    <tr>\n",
       "      <th>2</th>\n",
       "      <td>457.187187</td>\n",
       "      <td>449.119199</td>\n",
       "      <td>8.067989</td>\n",
       "    </tr>\n",
       "    <tr>\n",
       "      <th>3</th>\n",
       "      <td>235.216749</td>\n",
       "      <td>446.598548</td>\n",
       "      <td>-211.381799</td>\n",
       "    </tr>\n",
       "    <tr>\n",
       "      <th>4</th>\n",
       "      <td>502.576070</td>\n",
       "      <td>398.234981</td>\n",
       "      <td>104.341089</td>\n",
       "    </tr>\n",
       "    <tr>\n",
       "      <th>...</th>\n",
       "      <td>...</td>\n",
       "      <td>...</td>\n",
       "      <td>...</td>\n",
       "    </tr>\n",
       "    <tr>\n",
       "      <th>3559</th>\n",
       "      <td>595.408422</td>\n",
       "      <td>484.154992</td>\n",
       "      <td>111.253430</td>\n",
       "    </tr>\n",
       "    <tr>\n",
       "      <th>3560</th>\n",
       "      <td>352.676419</td>\n",
       "      <td>320.687846</td>\n",
       "      <td>31.988573</td>\n",
       "    </tr>\n",
       "    <tr>\n",
       "      <th>3561</th>\n",
       "      <td>427.180208</td>\n",
       "      <td>393.427391</td>\n",
       "      <td>33.752817</td>\n",
       "    </tr>\n",
       "    <tr>\n",
       "      <th>3562</th>\n",
       "      <td>504.116998</td>\n",
       "      <td>473.734760</td>\n",
       "      <td>30.382237</td>\n",
       "    </tr>\n",
       "    <tr>\n",
       "      <th>3563</th>\n",
       "      <td>267.197133</td>\n",
       "      <td>363.094615</td>\n",
       "      <td>-95.897483</td>\n",
       "    </tr>\n",
       "  </tbody>\n",
       "</table>\n",
       "<p>3564 rows × 3 columns</p>\n",
       "</div>"
      ],
      "text/plain": [
       "      Actual Value  Predicted value  Difference\n",
       "0       495.304136       634.779276 -139.475140\n",
       "1       456.105831       390.334999   65.770831\n",
       "2       457.187187       449.119199    8.067989\n",
       "3       235.216749       446.598548 -211.381799\n",
       "4       502.576070       398.234981  104.341089\n",
       "...            ...              ...         ...\n",
       "3559    595.408422       484.154992  111.253430\n",
       "3560    352.676419       320.687846   31.988573\n",
       "3561    427.180208       393.427391   33.752817\n",
       "3562    504.116998       473.734760   30.382237\n",
       "3563    267.197133       363.094615  -95.897483\n",
       "\n",
       "[3564 rows x 3 columns]"
      ]
     },
     "execution_count": 61,
     "metadata": {},
     "output_type": "execute_result"
    }
   ],
   "source": [
    "pred_y_df=pd.DataFrame({'Actual Value':y_test, 'Predicted value':y_pred, 'Difference':y_test-y_pred})\n",
    "pred_y_df[0:]"
   ]
  },
  {
   "cell_type": "code",
   "execution_count": null,
   "id": "00a74530",
   "metadata": {},
   "outputs": [],
   "source": []
  }
 ],
 "metadata": {
  "kernelspec": {
   "display_name": "Python 3",
   "language": "python",
   "name": "python3"
  },
  "language_info": {
   "codemirror_mode": {
    "name": "ipython",
    "version": 3
   },
   "file_extension": ".py",
   "mimetype": "text/x-python",
   "name": "python",
   "nbconvert_exporter": "python",
   "pygments_lexer": "ipython3",
   "version": "3.8.5"
  }
 },
 "nbformat": 4,
 "nbformat_minor": 5
}
